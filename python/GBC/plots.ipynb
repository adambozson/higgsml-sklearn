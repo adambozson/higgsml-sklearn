{
 "cells": [
  {
   "cell_type": "code",
   "execution_count": 1,
   "metadata": {
    "collapsed": false
   },
   "outputs": [],
   "source": [
    "import matplotlib\n",
    "matplotlib.use('TkAgg')\n",
    "%matplotlib inline\n",
    "import matplotlib.pyplot as plt\n",
    "import seaborn as sns\n",
    "import pandas as pd"
   ]
  },
  {
   "cell_type": "code",
   "execution_count": 2,
   "metadata": {
    "collapsed": false
   },
   "outputs": [],
   "source": [
    "df = pd.read_csv('ds.csv') # Example output from analysis.py"
   ]
  },
  {
   "cell_type": "code",
   "execution_count": 3,
   "metadata": {
    "collapsed": false
   },
   "outputs": [
    {
     "name": "stdout",
     "output_type": "stream",
     "text": [
      "Max significance 2.90 for cut value 1.1000\n"
     ]
    }
   ],
   "source": [
    "from analysis import print_max_significance\n",
    "max_sig = print_max_significance(df)"
   ]
  },
  {
   "cell_type": "code",
   "execution_count": null,
   "metadata": {
    "collapsed": true
   },
   "outputs": [],
   "source": [
    "sns.set_style('white')\n",
    "sns.set_context('poster', font_scale=1.5)\n",
    "sns.set_color_codes()\n",
    "\n",
    "fig, ax = plt.subplots(figsize=(12, 10))\n",
    "_ = plt.xlabel('Cut value'), plt.ylabel('Expected significance, $Z_A$')\n",
    "ax.plot(df['t_cut'], df['ZA'], 'k')\n",
    "ax.annotate(max_sig['str'],\n",
    "            xy=(max_sig['cut'], max_sig['value']),\n",
    "            xytext=(max_sig['cut'], max_sig['value']+.15),\n",
    "            horizontalalignment='center')\n",
    "plt.show()"
   ]
  },
  {
   "cell_type": "code",
   "execution_count": null,
   "metadata": {
    "collapsed": true
   },
   "outputs": [],
   "source": []
  }
 ],
 "metadata": {
  "kernelspec": {
   "display_name": "Python 2",
   "language": "python",
   "name": "python2"
  },
  "language_info": {
   "codemirror_mode": {
    "name": "ipython",
    "version": 2
   },
   "file_extension": ".py",
   "mimetype": "text/x-python",
   "name": "python",
   "nbconvert_exporter": "python",
   "pygments_lexer": "ipython2",
   "version": "2.7.11"
  }
 },
 "nbformat": 4,
 "nbformat_minor": 0
}
