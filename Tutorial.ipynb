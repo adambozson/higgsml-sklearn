{
 "cells": [
  {
   "cell_type": "markdown",
   "metadata": {},
   "source": [
    "# higgsml-sklearn\n",
    "Using [scikit-learn](http://scikit-learn.org/stable/) with the [Higgs Boson Machine Learning Challenge](https://higgsml.lal.in2p3.fr) dataset.\n",
    "\n",
    "_https://github.com/adambozson/higgsml-sklearn -- Adam Bozson, June 2016_\n",
    "\n",
    "---"
   ]
  },
  {
   "cell_type": "markdown",
   "metadata": {},
   "source": [
    "## 0. Introduction\n",
    "This notebook steps through the construction, validation, and scoring of a simple signal/background classifier for the HiggsML challenge."
   ]
  },
  {
   "cell_type": "code",
   "execution_count": null,
   "metadata": {
    "collapsed": true
   },
   "outputs": [],
   "source": []
  }
 ],
 "metadata": {
  "kernelspec": {
   "display_name": "Python 2",
   "language": "python",
   "name": "python2"
  },
  "language_info": {
   "codemirror_mode": {
    "name": "ipython",
    "version": 2
   },
   "file_extension": ".py",
   "mimetype": "text/x-python",
   "name": "python",
   "nbconvert_exporter": "python",
   "pygments_lexer": "ipython2",
   "version": "2.7.11"
  }
 },
 "nbformat": 4,
 "nbformat_minor": 0
}
