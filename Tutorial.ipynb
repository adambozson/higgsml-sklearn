{
 "cells": [
  {
   "cell_type": "markdown",
   "metadata": {},
   "source": [
    "# higgsml-sklearn\n",
    "Using [scikit-learn](http://scikit-learn.org/stable/) with the [Higgs Boson Machine Learning Challenge](https://higgsml.lal.in2p3.fr) dataset.\n",
    "\n",
    "_https://github.com/adambozson/higgsml-sklearn -- Adam Bozson (RHUL), June 2016_\n",
    "\n",
    "---"
   ]
  },
  {
   "cell_type": "markdown",
   "metadata": {},
   "source": [
    "## 0. Introduction\n",
    "This notebook steps through the construction, validation, and evaluation of a simple signal/background classifier for the HiggsML challenge.\n",
    "\n",
    "It assumes some knowledge of the basics of Python 2, and the ability to use a Jupyter notebook. To get started with Jupyter, click 'Help' > 'User Interface Tour' in the toolbar at the top. There are other good resources in the 'Help' menu.\n",
    "\n",
    "This notebook uses a number of well-known packages for data handling, mathematics, and plotting. Hopefully their use in this notebook is easy to understand. To gain a little familiarity, I recommend the [_Quickstart tutorial_](https://docs.scipy.org/doc/numpy-dev/user/quickstart.html) for `numpy` and [_10 Minutes to pandas_](http://pandas.pydata.org/pandas-docs/stable/10min.html) for the `pandas` module."
   ]
  },
  {
   "cell_type": "markdown",
   "metadata": {},
   "source": [
    "Notebooks are great for showing plots on demand. Let's set some options..."
   ]
  },
  {
   "cell_type": "code",
   "execution_count": 1,
   "metadata": {
    "collapsed": true
   },
   "outputs": [],
   "source": [
    "import matplotlib\n",
    "matplotlib.use('TkAgg')\n",
    "%matplotlib inline"
   ]
  },
  {
   "cell_type": "markdown",
   "metadata": {},
   "source": [
    "Here we tell the _[matplotlib](http://matplotlib.org)_ package to use a back-end (TkAgg) compatible with Mac and Linux. The `%matplotlib inline` 'magic' command tells the notebook to show us the plots.\n",
    "\n",
    "We will use the _[Seaborn](https://web.stanford.edu/~mwaskom/software/seaborn/)_ package later on to visualise data. Here we set some options that change the way _matplotlib_ draws plots."
   ]
  },
  {
   "cell_type": "code",
   "execution_count": 2,
   "metadata": {
    "collapsed": false
   },
   "outputs": [],
   "source": [
    "import seaborn as sns\n",
    "sns.set_style('white')\n",
    "sns.set_context('notebook')\n",
    "sns.set_color_codes()"
   ]
  },
  {
   "cell_type": "markdown",
   "metadata": {},
   "source": [
    "As a simple 'hello world' example, plot a sin curve..."
   ]
  },
  {
   "cell_type": "code",
   "execution_count": 3,
   "metadata": {
    "collapsed": false
   },
   "outputs": [
    {
     "data": {
      "image/png": "[encoded data removed]",
      "text/plain": [
       "<matplotlib.figure.Figure at 0x10f2d26d0>"
      ]
     },
     "metadata": {},
     "output_type": "display_data"
    }
   ],
   "source": [
    "import matplotlib.pyplot as plt\n",
    "import numpy as np\n",
    "x = np.linspace(0, 2*np.pi, 100)\n",
    "y = np.sin(x)\n",
    "plt.plot(x, y)\n",
    "plt.xlabel('x'), plt.ylabel('sin(x)')\n",
    "plt.show()"
   ]
  },
  {
   "cell_type": "markdown",
   "metadata": {
    "collapsed": true
   },
   "source": [
    "## 1. Load the data\n",
    "We will use [pandas](http://pandas.pydata.org) to handle the data. pandas provides a wrapper around numpy arrays which allows us to view, query, and manipulate the data easily. At its core, the data are stored in numpy arrays, which scikit-learn will use as inputs."
   ]
  },
  {
   "cell_type": "code",
   "execution_count": 4,
   "metadata": {
    "collapsed": true
   },
   "outputs": [],
   "source": [
    "import pandas as pd\n",
    "df = pd.read_csv('data/atlas-higgs-challenge-2014-v2.csv')"
   ]
  },
  {
   "cell_type": "markdown",
   "metadata": {},
   "source": [
    "This loads the CSV data into a _DataFrame_. View the first ten entries..."
   ]
  },
  {
   "cell_type": "code",
   "execution_count": 5,
   "metadata": {
    "collapsed": false
   },
   "outputs": [
    {
     "data": {
      "text/html": [
       "<div>\n",
       "<table border=\"1\" class=\"dataframe\">\n",
       "  <thead>\n",
       "    <tr style=\"text-align: right;\">\n",
       "      <th></th>\n",
       "      <th>EventId</th>\n",
       "      <th>DER_mass_MMC</th>\n",
       "      <th>DER_mass_transverse_met_lep</th>\n",
       "      <th>DER_mass_vis</th>\n",
       "      <th>DER_pt_h</th>\n",
       "      <th>DER_deltaeta_jet_jet</th>\n",
       "      <th>DER_mass_jet_jet</th>\n",
       "      <th>DER_prodeta_jet_jet</th>\n",
       "      <th>DER_deltar_tau_lep</th>\n",
       "      <th>DER_pt_tot</th>\n",
       "      <th>...</th>\n",
       "      <th>PRI_jet_leading_eta</th>\n",
       "      <th>PRI_jet_leading_phi</th>\n",
       "      <th>PRI_jet_subleading_pt</th>\n",
       "      <th>PRI_jet_subleading_eta</th>\n",
       "      <th>PRI_jet_subleading_phi</th>\n",
       "      <th>PRI_jet_all_pt</th>\n",
       "      <th>Weight</th>\n",
       "      <th>Label</th>\n",
       "      <th>KaggleSet</th>\n",
       "      <th>KaggleWeight</th>\n",
       "    </tr>\n",
       "  </thead>\n",
       "  <tbody>\n",
       "    <tr>\n",
       "      <th>0</th>\n",
       "      <td>100000</td>\n",
       "      <td>138.470</td>\n",
       "      <td>51.655</td>\n",
       "      <td>97.827</td>\n",
       "      <td>27.980</td>\n",
       "      <td>0.910</td>\n",
       "      <td>124.711</td>\n",
       "      <td>2.666</td>\n",
       "      <td>3.064</td>\n",
       "      <td>41.928</td>\n",
       "      <td>...</td>\n",
       "      <td>2.150</td>\n",
       "      <td>0.444</td>\n",
       "      <td>46.062</td>\n",
       "      <td>1.240</td>\n",
       "      <td>-2.475</td>\n",
       "      <td>113.497</td>\n",
       "      <td>0.000814</td>\n",
       "      <td>s</td>\n",
       "      <td>t</td>\n",
       "      <td>0.002653</td>\n",
       "    </tr>\n",
       "    <tr>\n",
       "      <th>1</th>\n",
       "      <td>100001</td>\n",
       "      <td>160.937</td>\n",
       "      <td>68.768</td>\n",
       "      <td>103.235</td>\n",
       "      <td>48.146</td>\n",
       "      <td>-999.000</td>\n",
       "      <td>-999.000</td>\n",
       "      <td>-999.000</td>\n",
       "      <td>3.473</td>\n",
       "      <td>2.078</td>\n",
       "      <td>...</td>\n",
       "      <td>0.725</td>\n",
       "      <td>1.158</td>\n",
       "      <td>-999.000</td>\n",
       "      <td>-999.000</td>\n",
       "      <td>-999.000</td>\n",
       "      <td>46.226</td>\n",
       "      <td>0.681042</td>\n",
       "      <td>b</td>\n",
       "      <td>t</td>\n",
       "      <td>2.233584</td>\n",
       "    </tr>\n",
       "    <tr>\n",
       "      <th>2</th>\n",
       "      <td>100002</td>\n",
       "      <td>-999.000</td>\n",
       "      <td>162.172</td>\n",
       "      <td>125.953</td>\n",
       "      <td>35.635</td>\n",
       "      <td>-999.000</td>\n",
       "      <td>-999.000</td>\n",
       "      <td>-999.000</td>\n",
       "      <td>3.148</td>\n",
       "      <td>9.336</td>\n",
       "      <td>...</td>\n",
       "      <td>2.053</td>\n",
       "      <td>-2.028</td>\n",
       "      <td>-999.000</td>\n",
       "      <td>-999.000</td>\n",
       "      <td>-999.000</td>\n",
       "      <td>44.251</td>\n",
       "      <td>0.715742</td>\n",
       "      <td>b</td>\n",
       "      <td>t</td>\n",
       "      <td>2.347389</td>\n",
       "    </tr>\n",
       "    <tr>\n",
       "      <th>3</th>\n",
       "      <td>100003</td>\n",
       "      <td>143.905</td>\n",
       "      <td>81.417</td>\n",
       "      <td>80.943</td>\n",
       "      <td>0.414</td>\n",
       "      <td>-999.000</td>\n",
       "      <td>-999.000</td>\n",
       "      <td>-999.000</td>\n",
       "      <td>3.310</td>\n",
       "      <td>0.414</td>\n",
       "      <td>...</td>\n",
       "      <td>-999.000</td>\n",
       "      <td>-999.000</td>\n",
       "      <td>-999.000</td>\n",
       "      <td>-999.000</td>\n",
       "      <td>-999.000</td>\n",
       "      <td>-0.000</td>\n",
       "      <td>1.660654</td>\n",
       "      <td>b</td>\n",
       "      <td>t</td>\n",
       "      <td>5.446378</td>\n",
       "    </tr>\n",
       "    <tr>\n",
       "      <th>4</th>\n",
       "      <td>100004</td>\n",
       "      <td>175.864</td>\n",
       "      <td>16.915</td>\n",
       "      <td>134.805</td>\n",
       "      <td>16.405</td>\n",
       "      <td>-999.000</td>\n",
       "      <td>-999.000</td>\n",
       "      <td>-999.000</td>\n",
       "      <td>3.891</td>\n",
       "      <td>16.405</td>\n",
       "      <td>...</td>\n",
       "      <td>-999.000</td>\n",
       "      <td>-999.000</td>\n",
       "      <td>-999.000</td>\n",
       "      <td>-999.000</td>\n",
       "      <td>-999.000</td>\n",
       "      <td>0.000</td>\n",
       "      <td>1.904263</td>\n",
       "      <td>b</td>\n",
       "      <td>t</td>\n",
       "      <td>6.245333</td>\n",
       "    </tr>\n",
       "    <tr>\n",
       "      <th>5</th>\n",
       "      <td>100005</td>\n",
       "      <td>89.744</td>\n",
       "      <td>13.550</td>\n",
       "      <td>59.149</td>\n",
       "      <td>116.344</td>\n",
       "      <td>2.636</td>\n",
       "      <td>284.584</td>\n",
       "      <td>-0.540</td>\n",
       "      <td>1.362</td>\n",
       "      <td>61.619</td>\n",
       "      <td>...</td>\n",
       "      <td>-2.412</td>\n",
       "      <td>-0.653</td>\n",
       "      <td>56.165</td>\n",
       "      <td>0.224</td>\n",
       "      <td>3.106</td>\n",
       "      <td>193.660</td>\n",
       "      <td>0.025434</td>\n",
       "      <td>b</td>\n",
       "      <td>t</td>\n",
       "      <td>0.083414</td>\n",
       "    </tr>\n",
       "    <tr>\n",
       "      <th>6</th>\n",
       "      <td>100006</td>\n",
       "      <td>148.754</td>\n",
       "      <td>28.862</td>\n",
       "      <td>107.782</td>\n",
       "      <td>106.130</td>\n",
       "      <td>0.733</td>\n",
       "      <td>158.359</td>\n",
       "      <td>0.113</td>\n",
       "      <td>2.941</td>\n",
       "      <td>2.545</td>\n",
       "      <td>...</td>\n",
       "      <td>0.864</td>\n",
       "      <td>1.450</td>\n",
       "      <td>56.867</td>\n",
       "      <td>0.131</td>\n",
       "      <td>-2.767</td>\n",
       "      <td>179.877</td>\n",
       "      <td>0.000814</td>\n",
       "      <td>s</td>\n",
       "      <td>t</td>\n",
       "      <td>0.002653</td>\n",
       "    </tr>\n",
       "    <tr>\n",
       "      <th>7</th>\n",
       "      <td>100007</td>\n",
       "      <td>154.916</td>\n",
       "      <td>10.418</td>\n",
       "      <td>94.714</td>\n",
       "      <td>29.169</td>\n",
       "      <td>-999.000</td>\n",
       "      <td>-999.000</td>\n",
       "      <td>-999.000</td>\n",
       "      <td>2.897</td>\n",
       "      <td>1.526</td>\n",
       "      <td>...</td>\n",
       "      <td>-0.715</td>\n",
       "      <td>-1.724</td>\n",
       "      <td>-999.000</td>\n",
       "      <td>-999.000</td>\n",
       "      <td>-999.000</td>\n",
       "      <td>30.638</td>\n",
       "      <td>0.005721</td>\n",
       "      <td>s</td>\n",
       "      <td>t</td>\n",
       "      <td>0.018636</td>\n",
       "    </tr>\n",
       "    <tr>\n",
       "      <th>8</th>\n",
       "      <td>100008</td>\n",
       "      <td>105.594</td>\n",
       "      <td>50.559</td>\n",
       "      <td>100.989</td>\n",
       "      <td>4.288</td>\n",
       "      <td>-999.000</td>\n",
       "      <td>-999.000</td>\n",
       "      <td>-999.000</td>\n",
       "      <td>2.904</td>\n",
       "      <td>4.288</td>\n",
       "      <td>...</td>\n",
       "      <td>-999.000</td>\n",
       "      <td>-999.000</td>\n",
       "      <td>-999.000</td>\n",
       "      <td>-999.000</td>\n",
       "      <td>-999.000</td>\n",
       "      <td>0.000</td>\n",
       "      <td>1.614803</td>\n",
       "      <td>b</td>\n",
       "      <td>t</td>\n",
       "      <td>5.296003</td>\n",
       "    </tr>\n",
       "    <tr>\n",
       "      <th>9</th>\n",
       "      <td>100009</td>\n",
       "      <td>128.053</td>\n",
       "      <td>88.941</td>\n",
       "      <td>69.272</td>\n",
       "      <td>193.392</td>\n",
       "      <td>-999.000</td>\n",
       "      <td>-999.000</td>\n",
       "      <td>-999.000</td>\n",
       "      <td>1.609</td>\n",
       "      <td>28.859</td>\n",
       "      <td>...</td>\n",
       "      <td>-2.767</td>\n",
       "      <td>-2.514</td>\n",
       "      <td>-999.000</td>\n",
       "      <td>-999.000</td>\n",
       "      <td>-999.000</td>\n",
       "      <td>167.735</td>\n",
       "      <td>0.000461</td>\n",
       "      <td>s</td>\n",
       "      <td>t</td>\n",
       "      <td>0.001502</td>\n",
       "    </tr>\n",
       "  </tbody>\n",
       "</table>\n",
       "<p>10 rows × 35 columns</p>\n",
       "</div>"
      ],
      "text/plain": [
       "   EventId  DER_mass_MMC  DER_mass_transverse_met_lep  DER_mass_vis  DER_pt_h  \\\n",
       "0   100000       138.470                       51.655        97.827    27.980   \n",
       "1   100001       160.937                       68.768       103.235    48.146   \n",
       "2   100002      -999.000                      162.172       125.953    35.635   \n",
       "3   100003       143.905                       81.417        80.943     0.414   \n",
       "4   100004       175.864                       16.915       134.805    16.405   \n",
       "5   100005        89.744                       13.550        59.149   116.344   \n",
       "6   100006       148.754                       28.862       107.782   106.130   \n",
       "7   100007       154.916                       10.418        94.714    29.169   \n",
       "8   100008       105.594                       50.559       100.989     4.288   \n",
       "9   100009       128.053                       88.941        69.272   193.392   \n",
       "\n",
       "   DER_deltaeta_jet_jet  DER_mass_jet_jet  DER_prodeta_jet_jet  \\\n",
       "0                 0.910           124.711                2.666   \n",
       "1              -999.000          -999.000             -999.000   \n",
       "2              -999.000          -999.000             -999.000   \n",
       "3              -999.000          -999.000             -999.000   \n",
       "4              -999.000          -999.000             -999.000   \n",
       "5                 2.636           284.584               -0.540   \n",
       "6                 0.733           158.359                0.113   \n",
       "7              -999.000          -999.000             -999.000   \n",
       "8              -999.000          -999.000             -999.000   \n",
       "9              -999.000          -999.000             -999.000   \n",
       "\n",
       "   DER_deltar_tau_lep  DER_pt_tot      ...       PRI_jet_leading_eta  \\\n",
       "0               3.064      41.928      ...                     2.150   \n",
       "1               3.473       2.078      ...                     0.725   \n",
       "2               3.148       9.336      ...                     2.053   \n",
       "3               3.310       0.414      ...                  -999.000   \n",
       "4               3.891      16.405      ...                  -999.000   \n",
       "5               1.362      61.619      ...                    -2.412   \n",
       "6               2.941       2.545      ...                     0.864   \n",
       "7               2.897       1.526      ...                    -0.715   \n",
       "8               2.904       4.288      ...                  -999.000   \n",
       "9               1.609      28.859      ...                    -2.767   \n",
       "\n",
       "   PRI_jet_leading_phi  PRI_jet_subleading_pt  PRI_jet_subleading_eta  \\\n",
       "0                0.444                 46.062                   1.240   \n",
       "1                1.158               -999.000                -999.000   \n",
       "2               -2.028               -999.000                -999.000   \n",
       "3             -999.000               -999.000                -999.000   \n",
       "4             -999.000               -999.000                -999.000   \n",
       "5               -0.653                 56.165                   0.224   \n",
       "6                1.450                 56.867                   0.131   \n",
       "7               -1.724               -999.000                -999.000   \n",
       "8             -999.000               -999.000                -999.000   \n",
       "9               -2.514               -999.000                -999.000   \n",
       "\n",
       "   PRI_jet_subleading_phi  PRI_jet_all_pt    Weight  Label  KaggleSet  \\\n",
       "0                  -2.475         113.497  0.000814      s          t   \n",
       "1                -999.000          46.226  0.681042      b          t   \n",
       "2                -999.000          44.251  0.715742      b          t   \n",
       "3                -999.000          -0.000  1.660654      b          t   \n",
       "4                -999.000           0.000  1.904263      b          t   \n",
       "5                   3.106         193.660  0.025434      b          t   \n",
       "6                  -2.767         179.877  0.000814      s          t   \n",
       "7                -999.000          30.638  0.005721      s          t   \n",
       "8                -999.000           0.000  1.614803      b          t   \n",
       "9                -999.000         167.735  0.000461      s          t   \n",
       "\n",
       "   KaggleWeight  \n",
       "0      0.002653  \n",
       "1      2.233584  \n",
       "2      2.347389  \n",
       "3      5.446378  \n",
       "4      6.245333  \n",
       "5      0.083414  \n",
       "6      0.002653  \n",
       "7      0.018636  \n",
       "8      5.296003  \n",
       "9      0.001502  \n",
       "\n",
       "[10 rows x 35 columns]"
      ]
     },
     "execution_count": 5,
     "metadata": {},
     "output_type": "execute_result"
    }
   ],
   "source": [
    "df[:10]"
   ]
  },
  {
   "cell_type": "markdown",
   "metadata": {},
   "source": [
    "We can compare the numbers of signal vs. background events..."
   ]
  },
  {
   "cell_type": "code",
   "execution_count": 6,
   "metadata": {
    "collapsed": false
   },
   "outputs": [
    {
     "data": {
      "text/plain": [
       "b    538678\n",
       "s    279560\n",
       "Name: Label, dtype: int64"
      ]
     },
     "execution_count": 6,
     "metadata": {},
     "output_type": "execute_result"
    }
   ],
   "source": [
    "df['Label'].value_counts()"
   ]
  },
  {
   "cell_type": "markdown",
   "metadata": {},
   "source": [
    "Even better, the sum of the weights for signal and background..."
   ]
  },
  {
   "cell_type": "code",
   "execution_count": 7,
   "metadata": {
    "collapsed": false
   },
   "outputs": [
    {
     "data": {
      "text/plain": [
       "Label\n",
       "b    410999.847322\n",
       "s       691.988608\n",
       "Name: Weight, dtype: float64"
      ]
     },
     "execution_count": 7,
     "metadata": {},
     "output_type": "execute_result"
    }
   ],
   "source": [
    "df.groupby('Label')['Weight'].sum()"
   ]
  },
  {
   "cell_type": "markdown",
   "metadata": {},
   "source": [
    "### 1.1. Extract relevant data, classes, and weights\n",
    "We must separate out the classes (signal/background) and weights..."
   ]
  },
  {
   "cell_type": "code",
   "execution_count": 8,
   "metadata": {
    "collapsed": true
   },
   "outputs": [],
   "source": [
    "classes = df['Label']\n",
    "weights = df['Weight']"
   ]
  },
  {
   "cell_type": "code",
   "execution_count": 9,
   "metadata": {
    "collapsed": false
   },
   "outputs": [
    {
     "data": {
      "text/plain": [
       "0    s\n",
       "1    b\n",
       "2    b\n",
       "3    b\n",
       "4    b\n",
       "Name: Label, dtype: object"
      ]
     },
     "execution_count": 9,
     "metadata": {},
     "output_type": "execute_result"
    }
   ],
   "source": [
    "classes[:5]"
   ]
  },
  {
   "cell_type": "markdown",
   "metadata": {},
   "source": [
    "See that `classes` contains values 's' and 'b'. It's more useful to convert these to 1 and 0..."
   ]
  },
  {
   "cell_type": "code",
   "execution_count": 10,
   "metadata": {
    "collapsed": false
   },
   "outputs": [
    {
     "data": {
      "text/plain": [
       "0    1\n",
       "1    0\n",
       "2    0\n",
       "3    0\n",
       "4    0\n",
       "Name: Label, dtype: int64"
      ]
     },
     "execution_count": 10,
     "metadata": {},
     "output_type": "execute_result"
    }
   ],
   "source": [
    "classes = (classes == 's').astype(int)\n",
    "classes[:5]"
   ]
  },
  {
   "cell_type": "markdown",
   "metadata": {},
   "source": [
    "Now for the data we need to drop the columns that could be used by the classification algorithms to cheat, leaving only the 30 physical variables..."
   ]
  },
  {
   "cell_type": "code",
   "execution_count": 11,
   "metadata": {
    "collapsed": false,
    "scrolled": true
   },
   "outputs": [
    {
     "data": {
      "text/html": [
       "<div>\n",
       "<table border=\"1\" class=\"dataframe\">\n",
       "  <thead>\n",
       "    <tr style=\"text-align: right;\">\n",
       "      <th></th>\n",
       "      <th>DER_mass_MMC</th>\n",
       "      <th>DER_mass_transverse_met_lep</th>\n",
       "      <th>DER_mass_vis</th>\n",
       "      <th>DER_pt_h</th>\n",
       "      <th>DER_deltaeta_jet_jet</th>\n",
       "      <th>DER_mass_jet_jet</th>\n",
       "      <th>DER_prodeta_jet_jet</th>\n",
       "      <th>DER_deltar_tau_lep</th>\n",
       "      <th>DER_pt_tot</th>\n",
       "      <th>DER_sum_pt</th>\n",
       "      <th>...</th>\n",
       "      <th>PRI_met_phi</th>\n",
       "      <th>PRI_met_sumet</th>\n",
       "      <th>PRI_jet_num</th>\n",
       "      <th>PRI_jet_leading_pt</th>\n",
       "      <th>PRI_jet_leading_eta</th>\n",
       "      <th>PRI_jet_leading_phi</th>\n",
       "      <th>PRI_jet_subleading_pt</th>\n",
       "      <th>PRI_jet_subleading_eta</th>\n",
       "      <th>PRI_jet_subleading_phi</th>\n",
       "      <th>PRI_jet_all_pt</th>\n",
       "    </tr>\n",
       "  </thead>\n",
       "  <tbody>\n",
       "    <tr>\n",
       "      <th>0</th>\n",
       "      <td>138.470</td>\n",
       "      <td>51.655</td>\n",
       "      <td>97.827</td>\n",
       "      <td>27.980</td>\n",
       "      <td>0.910</td>\n",
       "      <td>124.711</td>\n",
       "      <td>2.666</td>\n",
       "      <td>3.064</td>\n",
       "      <td>41.928</td>\n",
       "      <td>197.760</td>\n",
       "      <td>...</td>\n",
       "      <td>-0.277</td>\n",
       "      <td>258.733</td>\n",
       "      <td>2</td>\n",
       "      <td>67.435</td>\n",
       "      <td>2.150</td>\n",
       "      <td>0.444</td>\n",
       "      <td>46.062</td>\n",
       "      <td>1.240</td>\n",
       "      <td>-2.475</td>\n",
       "      <td>113.497</td>\n",
       "    </tr>\n",
       "    <tr>\n",
       "      <th>1</th>\n",
       "      <td>160.937</td>\n",
       "      <td>68.768</td>\n",
       "      <td>103.235</td>\n",
       "      <td>48.146</td>\n",
       "      <td>-999.000</td>\n",
       "      <td>-999.000</td>\n",
       "      <td>-999.000</td>\n",
       "      <td>3.473</td>\n",
       "      <td>2.078</td>\n",
       "      <td>125.157</td>\n",
       "      <td>...</td>\n",
       "      <td>-1.916</td>\n",
       "      <td>164.546</td>\n",
       "      <td>1</td>\n",
       "      <td>46.226</td>\n",
       "      <td>0.725</td>\n",
       "      <td>1.158</td>\n",
       "      <td>-999.000</td>\n",
       "      <td>-999.000</td>\n",
       "      <td>-999.000</td>\n",
       "      <td>46.226</td>\n",
       "    </tr>\n",
       "    <tr>\n",
       "      <th>2</th>\n",
       "      <td>-999.000</td>\n",
       "      <td>162.172</td>\n",
       "      <td>125.953</td>\n",
       "      <td>35.635</td>\n",
       "      <td>-999.000</td>\n",
       "      <td>-999.000</td>\n",
       "      <td>-999.000</td>\n",
       "      <td>3.148</td>\n",
       "      <td>9.336</td>\n",
       "      <td>197.814</td>\n",
       "      <td>...</td>\n",
       "      <td>-2.186</td>\n",
       "      <td>260.414</td>\n",
       "      <td>1</td>\n",
       "      <td>44.251</td>\n",
       "      <td>2.053</td>\n",
       "      <td>-2.028</td>\n",
       "      <td>-999.000</td>\n",
       "      <td>-999.000</td>\n",
       "      <td>-999.000</td>\n",
       "      <td>44.251</td>\n",
       "    </tr>\n",
       "    <tr>\n",
       "      <th>3</th>\n",
       "      <td>143.905</td>\n",
       "      <td>81.417</td>\n",
       "      <td>80.943</td>\n",
       "      <td>0.414</td>\n",
       "      <td>-999.000</td>\n",
       "      <td>-999.000</td>\n",
       "      <td>-999.000</td>\n",
       "      <td>3.310</td>\n",
       "      <td>0.414</td>\n",
       "      <td>75.968</td>\n",
       "      <td>...</td>\n",
       "      <td>0.060</td>\n",
       "      <td>86.062</td>\n",
       "      <td>0</td>\n",
       "      <td>-999.000</td>\n",
       "      <td>-999.000</td>\n",
       "      <td>-999.000</td>\n",
       "      <td>-999.000</td>\n",
       "      <td>-999.000</td>\n",
       "      <td>-999.000</td>\n",
       "      <td>-0.000</td>\n",
       "    </tr>\n",
       "    <tr>\n",
       "      <th>4</th>\n",
       "      <td>175.864</td>\n",
       "      <td>16.915</td>\n",
       "      <td>134.805</td>\n",
       "      <td>16.405</td>\n",
       "      <td>-999.000</td>\n",
       "      <td>-999.000</td>\n",
       "      <td>-999.000</td>\n",
       "      <td>3.891</td>\n",
       "      <td>16.405</td>\n",
       "      <td>57.983</td>\n",
       "      <td>...</td>\n",
       "      <td>-0.871</td>\n",
       "      <td>53.131</td>\n",
       "      <td>0</td>\n",
       "      <td>-999.000</td>\n",
       "      <td>-999.000</td>\n",
       "      <td>-999.000</td>\n",
       "      <td>-999.000</td>\n",
       "      <td>-999.000</td>\n",
       "      <td>-999.000</td>\n",
       "      <td>0.000</td>\n",
       "    </tr>\n",
       "    <tr>\n",
       "      <th>5</th>\n",
       "      <td>89.744</td>\n",
       "      <td>13.550</td>\n",
       "      <td>59.149</td>\n",
       "      <td>116.344</td>\n",
       "      <td>2.636</td>\n",
       "      <td>284.584</td>\n",
       "      <td>-0.540</td>\n",
       "      <td>1.362</td>\n",
       "      <td>61.619</td>\n",
       "      <td>278.876</td>\n",
       "      <td>...</td>\n",
       "      <td>2.237</td>\n",
       "      <td>282.849</td>\n",
       "      <td>3</td>\n",
       "      <td>90.547</td>\n",
       "      <td>-2.412</td>\n",
       "      <td>-0.653</td>\n",
       "      <td>56.165</td>\n",
       "      <td>0.224</td>\n",
       "      <td>3.106</td>\n",
       "      <td>193.660</td>\n",
       "    </tr>\n",
       "    <tr>\n",
       "      <th>6</th>\n",
       "      <td>148.754</td>\n",
       "      <td>28.862</td>\n",
       "      <td>107.782</td>\n",
       "      <td>106.130</td>\n",
       "      <td>0.733</td>\n",
       "      <td>158.359</td>\n",
       "      <td>0.113</td>\n",
       "      <td>2.941</td>\n",
       "      <td>2.545</td>\n",
       "      <td>305.967</td>\n",
       "      <td>...</td>\n",
       "      <td>-1.443</td>\n",
       "      <td>294.074</td>\n",
       "      <td>2</td>\n",
       "      <td>123.010</td>\n",
       "      <td>0.864</td>\n",
       "      <td>1.450</td>\n",
       "      <td>56.867</td>\n",
       "      <td>0.131</td>\n",
       "      <td>-2.767</td>\n",
       "      <td>179.877</td>\n",
       "    </tr>\n",
       "    <tr>\n",
       "      <th>7</th>\n",
       "      <td>154.916</td>\n",
       "      <td>10.418</td>\n",
       "      <td>94.714</td>\n",
       "      <td>29.169</td>\n",
       "      <td>-999.000</td>\n",
       "      <td>-999.000</td>\n",
       "      <td>-999.000</td>\n",
       "      <td>2.897</td>\n",
       "      <td>1.526</td>\n",
       "      <td>138.178</td>\n",
       "      <td>...</td>\n",
       "      <td>-1.761</td>\n",
       "      <td>187.299</td>\n",
       "      <td>1</td>\n",
       "      <td>30.638</td>\n",
       "      <td>-0.715</td>\n",
       "      <td>-1.724</td>\n",
       "      <td>-999.000</td>\n",
       "      <td>-999.000</td>\n",
       "      <td>-999.000</td>\n",
       "      <td>30.638</td>\n",
       "    </tr>\n",
       "    <tr>\n",
       "      <th>8</th>\n",
       "      <td>105.594</td>\n",
       "      <td>50.559</td>\n",
       "      <td>100.989</td>\n",
       "      <td>4.288</td>\n",
       "      <td>-999.000</td>\n",
       "      <td>-999.000</td>\n",
       "      <td>-999.000</td>\n",
       "      <td>2.904</td>\n",
       "      <td>4.288</td>\n",
       "      <td>65.333</td>\n",
       "      <td>...</td>\n",
       "      <td>0.024</td>\n",
       "      <td>129.804</td>\n",
       "      <td>0</td>\n",
       "      <td>-999.000</td>\n",
       "      <td>-999.000</td>\n",
       "      <td>-999.000</td>\n",
       "      <td>-999.000</td>\n",
       "      <td>-999.000</td>\n",
       "      <td>-999.000</td>\n",
       "      <td>0.000</td>\n",
       "    </tr>\n",
       "    <tr>\n",
       "      <th>9</th>\n",
       "      <td>128.053</td>\n",
       "      <td>88.941</td>\n",
       "      <td>69.272</td>\n",
       "      <td>193.392</td>\n",
       "      <td>-999.000</td>\n",
       "      <td>-999.000</td>\n",
       "      <td>-999.000</td>\n",
       "      <td>1.609</td>\n",
       "      <td>28.859</td>\n",
       "      <td>255.123</td>\n",
       "      <td>...</td>\n",
       "      <td>0.845</td>\n",
       "      <td>294.741</td>\n",
       "      <td>1</td>\n",
       "      <td>167.735</td>\n",
       "      <td>-2.767</td>\n",
       "      <td>-2.514</td>\n",
       "      <td>-999.000</td>\n",
       "      <td>-999.000</td>\n",
       "      <td>-999.000</td>\n",
       "      <td>167.735</td>\n",
       "    </tr>\n",
       "  </tbody>\n",
       "</table>\n",
       "<p>10 rows × 30 columns</p>\n",
       "</div>"
      ],
      "text/plain": [
       "   DER_mass_MMC  DER_mass_transverse_met_lep  DER_mass_vis  DER_pt_h  \\\n",
       "0       138.470                       51.655        97.827    27.980   \n",
       "1       160.937                       68.768       103.235    48.146   \n",
       "2      -999.000                      162.172       125.953    35.635   \n",
       "3       143.905                       81.417        80.943     0.414   \n",
       "4       175.864                       16.915       134.805    16.405   \n",
       "5        89.744                       13.550        59.149   116.344   \n",
       "6       148.754                       28.862       107.782   106.130   \n",
       "7       154.916                       10.418        94.714    29.169   \n",
       "8       105.594                       50.559       100.989     4.288   \n",
       "9       128.053                       88.941        69.272   193.392   \n",
       "\n",
       "   DER_deltaeta_jet_jet  DER_mass_jet_jet  DER_prodeta_jet_jet  \\\n",
       "0                 0.910           124.711                2.666   \n",
       "1              -999.000          -999.000             -999.000   \n",
       "2              -999.000          -999.000             -999.000   \n",
       "3              -999.000          -999.000             -999.000   \n",
       "4              -999.000          -999.000             -999.000   \n",
       "5                 2.636           284.584               -0.540   \n",
       "6                 0.733           158.359                0.113   \n",
       "7              -999.000          -999.000             -999.000   \n",
       "8              -999.000          -999.000             -999.000   \n",
       "9              -999.000          -999.000             -999.000   \n",
       "\n",
       "   DER_deltar_tau_lep  DER_pt_tot  DER_sum_pt       ...        PRI_met_phi  \\\n",
       "0               3.064      41.928     197.760       ...             -0.277   \n",
       "1               3.473       2.078     125.157       ...             -1.916   \n",
       "2               3.148       9.336     197.814       ...             -2.186   \n",
       "3               3.310       0.414      75.968       ...              0.060   \n",
       "4               3.891      16.405      57.983       ...             -0.871   \n",
       "5               1.362      61.619     278.876       ...              2.237   \n",
       "6               2.941       2.545     305.967       ...             -1.443   \n",
       "7               2.897       1.526     138.178       ...             -1.761   \n",
       "8               2.904       4.288      65.333       ...              0.024   \n",
       "9               1.609      28.859     255.123       ...              0.845   \n",
       "\n",
       "   PRI_met_sumet  PRI_jet_num  PRI_jet_leading_pt  PRI_jet_leading_eta  \\\n",
       "0        258.733            2              67.435                2.150   \n",
       "1        164.546            1              46.226                0.725   \n",
       "2        260.414            1              44.251                2.053   \n",
       "3         86.062            0            -999.000             -999.000   \n",
       "4         53.131            0            -999.000             -999.000   \n",
       "5        282.849            3              90.547               -2.412   \n",
       "6        294.074            2             123.010                0.864   \n",
       "7        187.299            1              30.638               -0.715   \n",
       "8        129.804            0            -999.000             -999.000   \n",
       "9        294.741            1             167.735               -2.767   \n",
       "\n",
       "   PRI_jet_leading_phi  PRI_jet_subleading_pt  PRI_jet_subleading_eta  \\\n",
       "0                0.444                 46.062                   1.240   \n",
       "1                1.158               -999.000                -999.000   \n",
       "2               -2.028               -999.000                -999.000   \n",
       "3             -999.000               -999.000                -999.000   \n",
       "4             -999.000               -999.000                -999.000   \n",
       "5               -0.653                 56.165                   0.224   \n",
       "6                1.450                 56.867                   0.131   \n",
       "7               -1.724               -999.000                -999.000   \n",
       "8             -999.000               -999.000                -999.000   \n",
       "9               -2.514               -999.000                -999.000   \n",
       "\n",
       "   PRI_jet_subleading_phi  PRI_jet_all_pt  \n",
       "0                  -2.475         113.497  \n",
       "1                -999.000          46.226  \n",
       "2                -999.000          44.251  \n",
       "3                -999.000          -0.000  \n",
       "4                -999.000           0.000  \n",
       "5                   3.106         193.660  \n",
       "6                  -2.767         179.877  \n",
       "7                -999.000          30.638  \n",
       "8                -999.000           0.000  \n",
       "9                -999.000         167.735  \n",
       "\n",
       "[10 rows x 30 columns]"
      ]
     },
     "execution_count": 11,
     "metadata": {},
     "output_type": "execute_result"
    }
   ],
   "source": [
    "data = df.drop(['EventId', 'Weight', 'Label', 'KaggleSet', 'KaggleWeight'], axis=1)\n",
    "data[:10]"
   ]
  },
  {
   "cell_type": "markdown",
   "metadata": {},
   "source": [
    "## 2. Look at the data\n",
    "It's often helpful to look at the data before diving into mutivariate methods.\n",
    "\n",
    "First, look at the correlations between the variables..."
   ]
  },
  {
   "cell_type": "code",
   "execution_count": 12,
   "metadata": {
    "collapsed": false
   },
   "outputs": [
    {
     "data": {
      "image/png": "[encoded data removed]",
      "text/plain": [
       "<matplotlib.figure.Figure at 0x111cc3550>"
      ]
     },
     "metadata": {},
     "output_type": "display_data"
    }
   ],
   "source": [
    "correlation_matrix = data.corr()\n",
    "fig, ax = plt.subplots(figsize=(8, 6))\n",
    "ax = sns.heatmap(correlation_matrix, square=True)"
   ]
  },
  {
   "cell_type": "markdown",
   "metadata": {},
   "source": [
    "What are the best variables for discriminating signal from background out of the box? Here we calculate the correlation with class for each variable and sort the results according to the absolute value..."
   ]
  },
  {
   "cell_type": "code",
   "execution_count": 13,
   "metadata": {
    "collapsed": false
   },
   "outputs": [
    {
     "data": {
      "text/html": [
       "<div>\n",
       "<table border=\"1\" class=\"dataframe\">\n",
       "  <thead>\n",
       "    <tr style=\"text-align: right;\">\n",
       "      <th></th>\n",
       "      <th>Variable</th>\n",
       "      <th>Power</th>\n",
       "    </tr>\n",
       "  </thead>\n",
       "  <tbody>\n",
       "    <tr>\n",
       "      <th>1</th>\n",
       "      <td>DER_mass_transverse_met_lep</td>\n",
       "      <td>0.350689</td>\n",
       "    </tr>\n",
       "    <tr>\n",
       "      <th>11</th>\n",
       "      <td>DER_met_phi_centrality</td>\n",
       "      <td>0.271933</td>\n",
       "    </tr>\n",
       "    <tr>\n",
       "      <th>0</th>\n",
       "      <td>DER_mass_MMC</td>\n",
       "      <td>0.239030</td>\n",
       "    </tr>\n",
       "    <tr>\n",
       "      <th>13</th>\n",
       "      <td>PRI_tau_pt</td>\n",
       "      <td>0.236174</td>\n",
       "    </tr>\n",
       "    <tr>\n",
       "      <th>3</th>\n",
       "      <td>DER_pt_h</td>\n",
       "      <td>0.194852</td>\n",
       "    </tr>\n",
       "    <tr>\n",
       "      <th>10</th>\n",
       "      <td>DER_pt_ratio_lep_tau</td>\n",
       "      <td>0.193571</td>\n",
       "    </tr>\n",
       "    <tr>\n",
       "      <th>5</th>\n",
       "      <td>DER_mass_jet_jet</td>\n",
       "      <td>0.193064</td>\n",
       "    </tr>\n",
       "    <tr>\n",
       "      <th>23</th>\n",
       "      <td>PRI_jet_leading_pt</td>\n",
       "      <td>0.159574</td>\n",
       "    </tr>\n",
       "    <tr>\n",
       "      <th>9</th>\n",
       "      <td>DER_sum_pt</td>\n",
       "      <td>0.153840</td>\n",
       "    </tr>\n",
       "    <tr>\n",
       "      <th>24</th>\n",
       "      <td>PRI_jet_leading_eta</td>\n",
       "      <td>0.152520</td>\n",
       "    </tr>\n",
       "  </tbody>\n",
       "</table>\n",
       "</div>"
      ],
      "text/plain": [
       "                       Variable     Power\n",
       "1   DER_mass_transverse_met_lep  0.350689\n",
       "11       DER_met_phi_centrality  0.271933\n",
       "0                  DER_mass_MMC  0.239030\n",
       "13                   PRI_tau_pt  0.236174\n",
       "3                      DER_pt_h  0.194852\n",
       "10         DER_pt_ratio_lep_tau  0.193571\n",
       "5              DER_mass_jet_jet  0.193064\n",
       "23           PRI_jet_leading_pt  0.159574\n",
       "9                    DER_sum_pt  0.153840\n",
       "24          PRI_jet_leading_eta  0.152520"
      ]
     },
     "execution_count": 13,
     "metadata": {},
     "output_type": "execute_result"
    }
   ],
   "source": [
    "correlations = []\n",
    "for col in data.columns:\n",
    "    vals = data[col]\n",
    "    corr = np.corrcoef(vals.T, classes.T)[0,1]\n",
    "    correlations.append([col, abs(corr)])\n",
    "correlations = pd.DataFrame(correlations, columns=['Variable', 'Power'])\n",
    "correlations.sort_values(by='Power', ascending=False)[:10]"
   ]
  },
  {
   "cell_type": "markdown",
   "metadata": {},
   "source": [
    "Let's plot the 'DER_mass_transverse_met_lep' variable in a histogram to see how it discriminates..."
   ]
  },
  {
   "cell_type": "code",
   "execution_count": 14,
   "metadata": {
    "collapsed": false
   },
   "outputs": [
    {
     "data": {
      "image/png": "[encoded data removed]",
      "text/plain": [
       "<matplotlib.figure.Figure at 0x113456d90>"
      ]
     },
     "metadata": {},
     "output_type": "display_data"
    }
   ],
   "source": [
    "var = 'DER_mass_transverse_met_lep'\n",
    "sel_s = (classes == 1) & (data[var] < 150)\n",
    "sel_b = (classes == 0) & (data[var] < 150)\n",
    "x_s = data[sel_s][var]\n",
    "x_b = data[sel_b][var]\n",
    "sns.distplot(x_s, kde=False, norm_hist=True, hist_kws={'weights': weights[sel_s]})\n",
    "sns.distplot(x_b, kde=False, norm_hist=True, hist_kws={'weights': weights[sel_b]})\n",
    "plt.legend(['Signal', 'Background'])\n",
    "plt.show()"
   ]
  },
  {
   "cell_type": "markdown",
   "metadata": {},
   "source": [
    "## 3. Split into training and test samples\n",
    "For validation, it's important to hold back a test sample. Use scikit-learn's built-in function for randomly shuffling and splitting up the data..."
   ]
  },
  {
   "cell_type": "code",
   "execution_count": 15,
   "metadata": {
    "collapsed": true
   },
   "outputs": [],
   "source": [
    "from sklearn.cross_validation import train_test_split\n",
    "X_train, X_test, y_train, y_test, w_train, w_test = train_test_split(data, classes, weights, test_size=0.5)"
   ]
  },
  {
   "cell_type": "markdown",
   "metadata": {},
   "source": [
    "For training the BDT, the sum of the _training_ weights for signal and background should be equal. Renormalise the training weights for each class..."
   ]
  },
  {
   "cell_type": "code",
   "execution_count": 16,
   "metadata": {
    "collapsed": true
   },
   "outputs": [],
   "source": [
    "reweight = lambda w: w/w.sum()\n",
    "w_train_normed = w_train.groupby(y_train).transform(reweight)"
   ]
  },
  {
   "cell_type": "markdown",
   "metadata": {},
   "source": [
    "Let's check that worked..."
   ]
  },
  {
   "cell_type": "code",
   "execution_count": 17,
   "metadata": {
    "collapsed": false
   },
   "outputs": [
    {
     "name": "stdout",
     "output_type": "stream",
     "text": [
      "2.0\n",
      "Label\n",
      "0    1.0\n",
      "1    1.0\n",
      "Name: Weight, dtype: float64\n"
     ]
    }
   ],
   "source": [
    "print w_train_normed.sum()\n",
    "print w_train_normed.groupby(y_train).sum()"
   ]
  },
  {
   "cell_type": "markdown",
   "metadata": {},
   "source": [
    "## 4. Create a BDT classifier\n",
    "\n",
    "Declare an ensemble using AdaBoost, with a decision tree as the base estimator. The parameters are chosen to align with ROOT TMVA's implementation of the BDT."
   ]
  },
  {
   "cell_type": "code",
   "execution_count": 18,
   "metadata": {
    "collapsed": true
   },
   "outputs": [],
   "source": [
    "from sklearn.tree import DecisionTreeClassifier\n",
    "from sklearn.ensemble import AdaBoostClassifier\n",
    "\n",
    "# Regularize based on the number of events per leaf\n",
    "min_node_size = 0.05 * X_train.shape[0]\n",
    "\n",
    "DT = DecisionTreeClassifier(splitter='random', min_samples_leaf=min_node_size)\n",
    "BDT = AdaBoostClassifier(base_estimator=DT, n_estimators=200, algorithm='SAMME')"
   ]
  },
  {
   "cell_type": "markdown",
   "metadata": {},
   "source": [
    "Train! Unfortunately, scikit-learn's AdaBoost (or DecisionTree) doesn't give a verbose output during training, so we have to be patient. Training takes about 4m on my 2013 MacBook Air, or 2m 30s on a state-of-the-art machine."
   ]
  },
  {
   "cell_type": "code",
   "execution_count": 19,
   "metadata": {
    "collapsed": false
   },
   "outputs": [],
   "source": [
    "BDT = BDT.fit(X_train, y_train, sample_weight=w_train_normed.values)"
   ]
  },
  {
   "cell_type": "markdown",
   "metadata": {},
   "source": [
    "## Aside: Saving/loading the classifier\n",
    "If training is expensive, it is often useful to save the trained BDT object to disk so we can load it again later. This is easily achieved using _pickle_, python's native serialisation package."
   ]
  },
  {
   "cell_type": "code",
   "execution_count": 20,
   "metadata": {
    "collapsed": true
   },
   "outputs": [],
   "source": [
    "import pickle\n",
    "\n",
    "def save_clf(clf, path):\n",
    "    with open(path, 'w') as f:\n",
    "        pickle.dump(clf, f)\n",
    "        \n",
    "def load_clf(path):\n",
    "    try:\n",
    "        with open(path, 'r') as f:\n",
    "            clf = pickle.load(f)\n",
    "            return clf\n",
    "    except IOError, EOFError:\n",
    "        print 'Problem loading', path"
   ]
  },
  {
   "cell_type": "markdown",
   "metadata": {},
   "source": [
    "Example use:"
   ]
  },
  {
   "cell_type": "code",
   "execution_count": 21,
   "metadata": {
    "collapsed": true
   },
   "outputs": [],
   "source": [
    "save_clf(BDT, 'BDT200.pkl')"
   ]
  },
  {
   "cell_type": "code",
   "execution_count": 22,
   "metadata": {
    "collapsed": true
   },
   "outputs": [],
   "source": [
    "BDT = load_clf('BDT200.pkl')"
   ]
  },
  {
   "cell_type": "markdown",
   "metadata": {},
   "source": [
    "## 5. Validation\n",
    "\n",
    "In order to properly compare models with different parameter values (such as the number of boosting iterations), we need a validation score. The `BDT.score` function returns the classificaion accuracy (1 - misclassification rate). The validation score must be evaluated on the independent test sample held out from the training."
   ]
  },
  {
   "cell_type": "code",
   "execution_count": 23,
   "metadata": {
    "collapsed": false
   },
   "outputs": [
    {
     "data": {
      "text/plain": [
       "0.82528324929652186"
      ]
     },
     "execution_count": 23,
     "metadata": {},
     "output_type": "execute_result"
    }
   ],
   "source": [
    "BDT.score(X_test, y_test, sample_weight=w_test)"
   ]
  },
  {
   "cell_type": "markdown",
   "metadata": {},
   "source": [
    "To achieve the best model, this score should be minimised over the parameter space.\n",
    "\n",
    "Comparing with the training score,"
   ]
  },
  {
   "cell_type": "code",
   "execution_count": 24,
   "metadata": {
    "collapsed": false
   },
   "outputs": [
    {
     "data": {
      "text/plain": [
       "0.82602892325361166"
      ]
     },
     "execution_count": 24,
     "metadata": {},
     "output_type": "execute_result"
    }
   ],
   "source": [
    "BDT.score(X_train, y_train, sample_weight=w_train)"
   ]
  },
  {
   "cell_type": "markdown",
   "metadata": {},
   "source": [
    "We expect the training score to be higher than the validation score, within random fluctuations. Since the difference between the training and validation scores is small, this indicates we are not in the region of overfitting.\n",
    "\n",
    "For a more serious attempt at a classifier, we would sample the validation score over different values of the model parameters (e.g. `n_estimators`, `min_samples_leaf`, split criterion, tree depth, etc.) and try to find the global minimum. For now, we are satisfied that the classifier is not overtrained and will evaluate the model on the entire dataset."
   ]
  },
  {
   "cell_type": "markdown",
   "metadata": {},
   "source": [
    "## 6. Evaluation\n",
    "How good is the trained classifier at discriminating signal and background events?\n",
    "\n",
    "### 6.1. Split into signal and background samples\n",
    "We now wish to treat the signal and background events separately, so we need to split the dataframe entries according to their labels.\n",
    "\n",
    "This function splits every dataframe in two, depending on the class label of the event."
   ]
  },
  {
   "cell_type": "code",
   "execution_count": 25,
   "metadata": {
    "collapsed": true
   },
   "outputs": [],
   "source": [
    "def split_sig_bkg(classes, *dataframes):\n",
    "    sig = []\n",
    "    bkg = []\n",
    "    for df in dataframes:\n",
    "        sig.append(df[classes == 1])\n",
    "        bkg.append(df[classes == 0])\n",
    "    return reduce(lambda a, b: a + b, zip(sig, bkg))"
   ]
  },
  {
   "cell_type": "code",
   "execution_count": 26,
   "metadata": {
    "collapsed": true
   },
   "outputs": [],
   "source": [
    "# Split the data and weights into signal/background samples\n",
    "X_sig, X_bkg, w_sig, w_bkg = split_sig_bkg(classes, data, weights)"
   ]
  },
  {
   "cell_type": "markdown",
   "metadata": {},
   "source": [
    "### 6.2. Get the BDT output\n",
    "The BDT makes its decision based on a weighted vote from the weak learners (decision trees). The AdaBoost algorithm assigns the weight of each weak learner based on its classification accuracy, and each boosting iteration reweights the samples to give promenance to those events that are misclassified by the previous tree.\n",
    "\n",
    "The _decision function_ is defined as \n",
    "$$\\hat{y}(\\vec{x}) = \\sum_{k=1}^{N} \\alpha_k \\, f_k(\\vec{x}) \\, , $$\n",
    "where $f_k$ is the output of the $k$th decision tree, $-1$ for a 'background' decision and $+1$ for 'signal'."
   ]
  },
  {
   "cell_type": "code",
   "execution_count": 27,
   "metadata": {
    "collapsed": true
   },
   "outputs": [],
   "source": [
    "p_sig = BDT.decision_function(X_sig)\n",
    "p_bkg = BDT.decision_function(X_bkg)"
   ]
  },
  {
   "cell_type": "markdown",
   "metadata": {},
   "source": [
    "Let's plot the distributions of outputs..."
   ]
  },
  {
   "cell_type": "code",
   "execution_count": 28,
   "metadata": {
    "collapsed": false
   },
   "outputs": [
    {
     "data": {
      "image/png": "[encoded data removed]",
      "text/plain": [
       "<matplotlib.figure.Figure at 0x1120f65d0>"
      ]
     },
     "metadata": {},
     "output_type": "display_data"
    }
   ],
   "source": [
    "fig, ax = plt.subplots()\n",
    "sns.distplot(p_sig, kde=False, norm_hist=True, hist_kws={'weights': w_sig})\n",
    "sns.distplot(p_bkg, kde=False, norm_hist=True, hist_kws={'weights': w_bkg})\n",
    "plt.xlabel('BDT Decision Function')\n",
    "plt.ylabel('Normalised entries')\n",
    "plt.legend(['Signal', 'Background'])\n",
    "plt.show()"
   ]
  },
  {
   "cell_type": "markdown",
   "metadata": {},
   "source": [
    "### 6.3. ROC AUC\n",
    "The area under the [receiver operating characteristic](https://en.wikipedia.org/wiki/Receiver_operating_characteristic) is a metric used to compare the performance of binary classifiers. An ROC AUC score of 1.0 indicates a perfect classifier, whereas a score of 0.5 indicates the classifier is no better than random guessing."
   ]
  },
  {
   "cell_type": "code",
   "execution_count": 29,
   "metadata": {
    "collapsed": false
   },
   "outputs": [
    {
     "data": {
      "text/plain": [
       "0.84192719120322435"
      ]
     },
     "execution_count": 29,
     "metadata": {},
     "output_type": "execute_result"
    }
   ],
   "source": [
    "from sklearn.metrics import roc_auc_score\n",
    "roc_auc_score(classes, BDT.predict(data), sample_weight=weights)"
   ]
  },
  {
   "cell_type": "markdown",
   "metadata": {},
   "source": [
    "### 6.4. Expected discovery significance\n",
    "In a HEP experiment, we prefer for optimise to the expected discovery significance. Here we will calculate this metric as a function of the cut on the BDT decision function.\n",
    "\n",
    "First, define a useful function to sum the weights of events above a certain cut value..."
   ]
  },
  {
   "cell_type": "code",
   "execution_count": 30,
   "metadata": {
    "collapsed": true
   },
   "outputs": [],
   "source": [
    "def sum_weights_above(t_cut, t, weights):\n",
    "    mask = t > t_cut\n",
    "    return weights[mask].sum()"
   ]
  },
  {
   "cell_type": "markdown",
   "metadata": {},
   "source": [
    "Now the functions for the expected discovery significance. The median discovery significance is approximated by\n",
    "$$Z_A = \\sqrt{2\\left((s+b) \\ln(1+\\frac{s}{b}) -s  \\right)} \\, .$$\n",
    "In the large-background limit where $b \\gg s$, $Z_A$ approaches $Z_0 = s/\\sqrt{b}$."
   ]
  },
  {
   "cell_type": "code",
   "execution_count": 31,
   "metadata": {
    "collapsed": true
   },
   "outputs": [],
   "source": [
    "def ZA(s, b):\n",
    "    if b > 0:\n",
    "        return np.sqrt(2 * ((s+b) * np.log(1 + s/b) - s))\n",
    "    else:\n",
    "        return np.nan\n",
    "    \n",
    "def Z0(s, b):\n",
    "    if b > 0:\n",
    "        return s / np.sqrt(b)\n",
    "    else:\n",
    "        return np.nan"
   ]
  },
  {
   "cell_type": "markdown",
   "metadata": {},
   "source": [
    "Scan over the values for the cut (from $-0.5$ to $0.5$), calculating $s$, $b$, $Z_0$, and $Z_A$ each time. Store the results in a DataFrame..."
   ]
  },
  {
   "cell_type": "code",
   "execution_count": 32,
   "metadata": {
    "collapsed": false
   },
   "outputs": [],
   "source": [
    "cuts = np.arange(-.5, .5, .01)\n",
    "rows = []\n",
    "for t_cut in cuts:\n",
    "    s = sum_weights_above(t_cut, p_sig, w_sig)\n",
    "    b = sum_weights_above(t_cut, p_bkg, w_bkg)\n",
    "    rows.append([t_cut, s, b, Z0(s, b), ZA(s, b)])\n",
    "discovery_sig_df = pd.DataFrame(rows, columns=['t_cut', 's', 'b', 'Z0', 'ZA'])"
   ]
  },
  {
   "cell_type": "markdown",
   "metadata": {},
   "source": [
    "Randomly sample the results to see what they look like..."
   ]
  },
  {
   "cell_type": "code",
   "execution_count": 33,
   "metadata": {
    "collapsed": false
   },
   "outputs": [
    {
     "data": {
      "text/html": [
       "<div>\n",
       "<table border=\"1\" class=\"dataframe\">\n",
       "  <thead>\n",
       "    <tr style=\"text-align: right;\">\n",
       "      <th></th>\n",
       "      <th>t_cut</th>\n",
       "      <th>s</th>\n",
       "      <th>b</th>\n",
       "      <th>Z0</th>\n",
       "      <th>ZA</th>\n",
       "    </tr>\n",
       "  </thead>\n",
       "  <tbody>\n",
       "    <tr>\n",
       "      <th>12</th>\n",
       "      <td>-0.38</td>\n",
       "      <td>691.977677</td>\n",
       "      <td>404674.326198</td>\n",
       "      <td>1.087775</td>\n",
       "      <td>1.087466</td>\n",
       "    </tr>\n",
       "    <tr>\n",
       "      <th>16</th>\n",
       "      <td>-0.34</td>\n",
       "      <td>691.911042</td>\n",
       "      <td>388822.155221</td>\n",
       "      <td>1.109621</td>\n",
       "      <td>1.109292</td>\n",
       "    </tr>\n",
       "    <tr>\n",
       "      <th>21</th>\n",
       "      <td>-0.29</td>\n",
       "      <td>691.642438</td>\n",
       "      <td>347114.562689</td>\n",
       "      <td>1.173938</td>\n",
       "      <td>1.173549</td>\n",
       "    </tr>\n",
       "    <tr>\n",
       "      <th>49</th>\n",
       "      <td>-0.01</td>\n",
       "      <td>607.858545</td>\n",
       "      <td>79884.330218</td>\n",
       "      <td>2.150660</td>\n",
       "      <td>2.147941</td>\n",
       "    </tr>\n",
       "    <tr>\n",
       "      <th>55</th>\n",
       "      <td>0.05</td>\n",
       "      <td>500.122029</td>\n",
       "      <td>37393.506122</td>\n",
       "      <td>2.586294</td>\n",
       "      <td>2.580561</td>\n",
       "    </tr>\n",
       "    <tr>\n",
       "      <th>64</th>\n",
       "      <td>0.14</td>\n",
       "      <td>261.679037</td>\n",
       "      <td>7542.898189</td>\n",
       "      <td>3.013005</td>\n",
       "      <td>2.995831</td>\n",
       "    </tr>\n",
       "    <tr>\n",
       "      <th>78</th>\n",
       "      <td>0.28</td>\n",
       "      <td>11.512956</td>\n",
       "      <td>61.736381</td>\n",
       "      <td>1.465265</td>\n",
       "      <td>1.422935</td>\n",
       "    </tr>\n",
       "    <tr>\n",
       "      <th>81</th>\n",
       "      <td>0.31</td>\n",
       "      <td>4.129115</td>\n",
       "      <td>10.190374</td>\n",
       "      <td>1.293486</td>\n",
       "      <td>1.218244</td>\n",
       "    </tr>\n",
       "    <tr>\n",
       "      <th>82</th>\n",
       "      <td>0.32</td>\n",
       "      <td>2.884551</td>\n",
       "      <td>6.129625</td>\n",
       "      <td>1.165095</td>\n",
       "      <td>1.088026</td>\n",
       "    </tr>\n",
       "    <tr>\n",
       "      <th>93</th>\n",
       "      <td>0.43</td>\n",
       "      <td>0.010148</td>\n",
       "      <td>0.000000</td>\n",
       "      <td>NaN</td>\n",
       "      <td>NaN</td>\n",
       "    </tr>\n",
       "  </tbody>\n",
       "</table>\n",
       "</div>"
      ],
      "text/plain": [
       "    t_cut           s              b        Z0        ZA\n",
       "12  -0.38  691.977677  404674.326198  1.087775  1.087466\n",
       "16  -0.34  691.911042  388822.155221  1.109621  1.109292\n",
       "21  -0.29  691.642438  347114.562689  1.173938  1.173549\n",
       "49  -0.01  607.858545   79884.330218  2.150660  2.147941\n",
       "55   0.05  500.122029   37393.506122  2.586294  2.580561\n",
       "64   0.14  261.679037    7542.898189  3.013005  2.995831\n",
       "78   0.28   11.512956      61.736381  1.465265  1.422935\n",
       "81   0.31    4.129115      10.190374  1.293486  1.218244\n",
       "82   0.32    2.884551       6.129625  1.165095  1.088026\n",
       "93   0.43    0.010148       0.000000       NaN       NaN"
      ]
     },
     "execution_count": 33,
     "metadata": {},
     "output_type": "execute_result"
    }
   ],
   "source": [
    "discovery_sig_df.sample(n=10).sort_values(by='t_cut')"
   ]
  },
  {
   "cell_type": "code",
   "execution_count": 34,
   "metadata": {
    "collapsed": false
   },
   "outputs": [
    {
     "name": "stdout",
     "output_type": "stream",
     "text": [
      "Max significance 3.00 for cut value 0.14\n"
     ]
    }
   ],
   "source": [
    "max_sig_idx = discovery_sig_df['ZA'].idxmax()\n",
    "max_sig_data = discovery_sig_df.iloc[max_sig_idx]\n",
    "max_sig = max_sig_data['ZA']\n",
    "max_sig_cut = max_sig_data['t_cut']\n",
    "max_sig_str = 'Max significance {:.2f} for cut value {}'.format(max_sig, max_sig_cut)\n",
    "print max_sig_str"
   ]
  },
  {
   "cell_type": "markdown",
   "metadata": {},
   "source": [
    "Plot $Z_A$ as a function of the cut value..."
   ]
  },
  {
   "cell_type": "code",
   "execution_count": 35,
   "metadata": {
    "collapsed": false
   },
   "outputs": [
    {
     "data": {
      "image/png": "[encoded data removed]",
      "text/plain": [
       "<matplotlib.figure.Figure at 0x10dc00f10>"
      ]
     },
     "metadata": {},
     "output_type": "display_data"
    }
   ],
   "source": [
    "fig, ax = plt.subplots()\n",
    "plt.plot(discovery_sig_df['t_cut'], discovery_sig_df['ZA'])\n",
    "plt.xlabel('Cut value')\n",
    "plt.ylabel('Expected significance, $Z_A$')\n",
    "ax.plot([max_sig_cut], [max_sig], 'bo')\n",
    "ax.annotate(max_sig_str,\n",
    "            xy=(max_sig_cut, max_sig),\n",
    "            xytext=(max_sig_cut, max_sig + .15),\n",
    "            horizontalalignment='center')\n",
    "# plt.savefig('significance.png') # Uncomment to save to file\n",
    "plt.show()"
   ]
  },
  {
   "cell_type": "markdown",
   "metadata": {},
   "source": [
    "The following function saves the dataframe to a printable text file..."
   ]
  },
  {
   "cell_type": "code",
   "execution_count": 36,
   "metadata": {
    "collapsed": false
   },
   "outputs": [],
   "source": [
    "def significance_df_to_txt(df, path):\n",
    "    formatters = {'t_cut': '{:+.2f}'.format,\n",
    "                  's':     '{:.3f}'.format,\n",
    "                  'b':     '{:.1f}'.format,\n",
    "                  'Z0':    '{:.4f}'.format,\n",
    "                  'ZA':    '{:.4f}'.format\n",
    "                 }\n",
    "    with open(path, 'w') as f:\n",
    "        f.write(df.to_string(index=False, formatters=formatters))\n",
    "# Usage:\n",
    "# significance_df_to_csv(discovery_sig_df, 'significance.txt')"
   ]
  },
  {
   "cell_type": "markdown",
   "metadata": {},
   "source": [
    "## 7. Epilogue\n",
    "Try changing the parameters in the model: the number of boosting iterations, leaf size, maximum depth, size of the test sample. These changes will have an effect on the training time as well as the validation score and discovery significance. Also try altering the discrete parameters. For example, I've found that changing the splitting algorithm from 'random' (TMVA default) to 'best' (scikit-learn default) increases the training time by about a factor of four, but results in a better classifier. Remember to optimise to validation score, not discovery significance, or you risk overfitting."
   ]
  }
 ],
 "metadata": {
  "kernelspec": {
   "display_name": "Python 2",
   "language": "python",
   "name": "python2"
  },
  "language_info": {
   "codemirror_mode": {
    "name": "ipython",
    "version": 2
   },
   "file_extension": ".py",
   "mimetype": "text/x-python",
   "name": "python",
   "nbconvert_exporter": "python",
   "pygments_lexer": "ipython2",
   "version": "2.7.11"
  }
 },
 "nbformat": 4,
 "nbformat_minor": 0
}
